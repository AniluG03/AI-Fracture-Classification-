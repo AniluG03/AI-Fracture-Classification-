{
  "nbformat": 4,
  "nbformat_minor": 0,
  "metadata": {
    "colab": {
      "provenance": [],
      "collapsed_sections": [
        "dvDL-oQ4GNvb"
      ],
      "include_colab_link": true
    },
    "kernelspec": {
      "name": "python3",
      "display_name": "Python 3"
    },
    "language_info": {
      "name": "python"
    }
  },
  "cells": [
    {
      "cell_type": "markdown",
      "metadata": {
        "id": "view-in-github",
        "colab_type": "text"
      },
      "source": [
        "<a href=\"https://colab.research.google.com/github/AniluG03/AI-Fracture-Classification-/blob/main/AI-Fracture%20(without%20results).ipynb\" target=\"_parent\"><img src=\"https://colab.research.google.com/assets/colab-badge.svg\" alt=\"Open In Colab\"/></a>"
      ]
    },
    {
      "cell_type": "markdown",
      "source": [
        "**Redes Neuronales**\n",
        "\n",
        "Actividad: PIA\n",
        "\n",
        "Ing. Tomás Eloy Salais Fierro\n",
        "\n",
        "Integrantes:\n",
        "\n",
        "Lucía Garza Garza 1956237\n",
        "\n",
        "Jorge Eduardo Muñoz Garza 2077981\n",
        "\n",
        "Ana Luisa Garza Díaz 1948335\n"
      ],
      "metadata": {
        "id": "mzVj-wBm4FVw"
      }
    },
    {
      "cell_type": "markdown",
      "source": [
        "#Instalación de librerías."
      ],
      "metadata": {
        "id": "NmzcuJROGFUr"
      }
    },
    {
      "cell_type": "code",
      "execution_count": null,
      "metadata": {
        "id": "GZX8pRAK3m2A"
      },
      "outputs": [],
      "source": [
        "import os\n",
        "from pathlib import Path\n",
        "\n",
        "import numpy as np\n",
        "import matplotlib.pyplot as plt\n",
        "import cv2\n",
        "\n",
        "import tensorflow as tf\n",
        "from tensorflow import keras\n",
        "from tensorflow.keras import backend as K\n",
        "from tensorflow.keras import datasets, layers, models, utils, callbacks\n",
        "from tensorflow.keras.models import Sequential\n",
        "from tensorflow.keras.layers import Conv2D, MaxPooling2D, Flatten, Dense, Dropout\n",
        "from tensorflow.keras.optimizers import Adam\n",
        "from tensorflow.keras.preprocessing.image import ImageDataGenerator, img_to_array\n",
        "from tensorflow.keras.callbacks import EarlyStopping, ModelCheckpoint"
      ]
    },
    {
      "cell_type": "markdown",
      "source": [
        "#Descarga de datos del repositorio de Kaggle."
      ],
      "metadata": {
        "id": "dvDL-oQ4GNvb"
      }
    },
    {
      "cell_type": "code",
      "source": [
        "!mkdir -p ~/.kaggle\n",
        "!mv kaggle.json ~/.kaggle/\n",
        "!chmod 600 ~/.kaggle/kaggle.json"
      ],
      "metadata": {
        "id": "I_N3SHoQEs4s"
      },
      "execution_count": null,
      "outputs": []
    },
    {
      "cell_type": "code",
      "source": [
        "!kaggle datasets download -d pkdarabi/bone-break-classification-image-dataset"
      ],
      "metadata": {
        "id": "W5DJQ6I6E193"
      },
      "execution_count": null,
      "outputs": []
    },
    {
      "cell_type": "code",
      "source": [
        "!unzip -o \"bone-break-classification-image-dataset.zip\""
      ],
      "metadata": {
        "id": "SeGfW9pkFDdg",
        "collapsed": true
      },
      "execution_count": null,
      "outputs": []
    },
    {
      "cell_type": "code",
      "source": [
        "!ls"
      ],
      "metadata": {
        "id": "XEUBUBT1E-ij"
      },
      "execution_count": null,
      "outputs": []
    },
    {
      "cell_type": "code",
      "source": [
        "!kaggle datasets download -d devbatrax/fracture-detection-using-x-ray-images"
      ],
      "metadata": {
        "id": "nBB5q726GlhI"
      },
      "execution_count": null,
      "outputs": []
    },
    {
      "cell_type": "code",
      "source": [
        "!ls"
      ],
      "metadata": {
        "id": "78AQgVk_GzMp"
      },
      "execution_count": null,
      "outputs": []
    },
    {
      "cell_type": "code",
      "source": [
        "!unzip -o \"fracture-detection-using-x-ray-images.zip\""
      ],
      "metadata": {
        "id": "b5dcBnN-Gv9x",
        "collapsed": true
      },
      "execution_count": null,
      "outputs": []
    },
    {
      "cell_type": "code",
      "source": [
        "!mkdir -p \"/content/Bone Break Classification/Bone Break Classification/No Fracture\"  # Crear carpeta"
      ],
      "metadata": {
        "id": "FmG-fwMVHYJp"
      },
      "execution_count": null,
      "outputs": []
    },
    {
      "cell_type": "code",
      "source": [
        "!mv \"/content/data/train/not fractured\" \"/content/Bone Break Classification/Bone Break Classification/No Fracture\""
      ],
      "metadata": {
        "id": "hEHbYee-Fegj"
      },
      "execution_count": null,
      "outputs": []
    },
    {
      "cell_type": "code",
      "source": [
        "!mv \"/content/Bone Break Classification/Bone Break Classification/No Fracture/not fractured\" \"/content/Bone Break Classification/Bone Break Classification/No Fracture/Train\"  # Renombrar"
      ],
      "metadata": {
        "id": "o-jjJIFdHTUk"
      },
      "execution_count": null,
      "outputs": []
    },
    {
      "cell_type": "code",
      "source": [
        "!mv \"/content/data/val/not fractured\" \"/content/Bone Break Classification/Bone Break Classification/No Fracture\""
      ],
      "metadata": {
        "id": "j5SUi_m9IH7h"
      },
      "execution_count": null,
      "outputs": []
    },
    {
      "cell_type": "code",
      "source": [
        "!mv \"/content/Bone Break Classification/Bone Break Classification/No Fracture/not fractured\" \"/content/Bone Break Classification/Bone Break Classification/No Fracture/Test\"  # Renombrar"
      ],
      "metadata": {
        "id": "jiEdGwWYIxWa"
      },
      "execution_count": null,
      "outputs": []
    },
    {
      "cell_type": "code",
      "source": [
        "#!rm -r \"/content/data/train/carpeta_a_eliminar\"  # Eliminar"
      ],
      "metadata": {
        "id": "WK0r91XiHGUc"
      },
      "execution_count": null,
      "outputs": []
    },
    {
      "cell_type": "markdown",
      "source": [
        "# Cargar y etiquetar imágenes"
      ],
      "metadata": {
        "id": "Rfy3X4bLK0DN"
      }
    },
    {
      "cell_type": "code",
      "source": [
        "data_dir = \"/content/Bone Break Classification/Bone Break Classification\"\n",
        "\n",
        "\n",
        "#Cargar imagenes de entrenamiento y validación\n",
        "train_data = utils.image_dataset_from_directory(\n",
        "    data_dir,\n",
        "    labels=\"inferred\",\n",
        "    label_mode=\"int\",\n",
        "    validation_split=0.1,\n",
        "    subset=\"training\",\n",
        "    shuffle=True,\n",
        "    color_mode=\"rgb\",\n",
        "    image_size=(100,100),\n",
        "    batch_size=64,\n",
        "    seed=40\n",
        ")\n",
        "\n",
        "\n",
        "validation_data = utils.image_dataset_from_directory(\n",
        "    data_dir,\n",
        "    labels=\"inferred\",\n",
        "    label_mode=\"int\",\n",
        "    validation_split=0.1,\n",
        "    subset=\"validation\",\n",
        "    color_mode=\"rgb\",\n",
        "    image_size=(100,100),\n",
        "    batch_size=64,\n",
        "    seed=42\n",
        ")"
      ],
      "metadata": {
        "id": "yiNQ3X5zaJ26"
      },
      "execution_count": null,
      "outputs": []
    },
    {
      "cell_type": "code",
      "source": [
        "# Buscar clases\n",
        "class_names = train_data.class_names\n",
        "print(\"Class names:\", class_names)"
      ],
      "metadata": {
        "id": "JErXBd7faN1g"
      },
      "execution_count": null,
      "outputs": []
    },
    {
      "cell_type": "code",
      "source": [
        "# Normalización\n",
        "def preprocess(img):\n",
        "    img = tf.cast(img, \"float32\") / 255.0\n",
        "    return img\n",
        "\n",
        "train_dataset = train_data.map(lambda x, y: (preprocess(x), y))\n",
        "val_dataset = validation_data.map(lambda x, y: (preprocess(x), y))"
      ],
      "metadata": {
        "id": "ig9j1oYIaSXp"
      },
      "execution_count": null,
      "outputs": []
    },
    {
      "cell_type": "markdown",
      "source": [
        "Acomodo de etiquetas e imagenes en arreglos"
      ],
      "metadata": {
        "id": "xuwwgLD4tG7-"
      }
    },
    {
      "cell_type": "code",
      "source": [
        "x_train = []\n",
        "y_train = []\n",
        "\n",
        "for images, labels in train_dataset:\n",
        "    #append train data to x_train\n",
        "    x_train.append(images.numpy())\n",
        "\n",
        "    #append labels to y_train\n",
        "    y_train.append(labels.numpy())\n",
        "\n",
        "x_train = np.concatenate(x_train, axis=0)\n",
        "y_train = np.concatenate(y_train, axis=0)"
      ],
      "metadata": {
        "id": "5CQ7qABiaYGo"
      },
      "execution_count": null,
      "outputs": []
    },
    {
      "cell_type": "code",
      "source": [
        "x_val = []\n",
        "y_val = []\n",
        "\n",
        "for images, labels in val_dataset:\n",
        "    #append train data to x_train\n",
        "    x_val.append(images.numpy())\n",
        "\n",
        "    #append labels to y_train\n",
        "    y_val.append(labels.numpy())\n",
        "\n",
        "\n",
        "x_val = np.concatenate(x_val, axis=0)\n",
        "y_val = np.concatenate(y_val, axis=0)"
      ],
      "metadata": {
        "id": "YgUvHMf6acZ_"
      },
      "execution_count": null,
      "outputs": []
    },
    {
      "cell_type": "code",
      "source": [
        "print(len(x_val))"
      ],
      "metadata": {
        "id": "2uMTsqxQsIt4"
      },
      "execution_count": null,
      "outputs": []
    },
    {
      "cell_type": "code",
      "source": [
        "# Definición de clases\n",
        "class_names_dict = {\n",
        "    0: 'Avulsion fracture',\n",
        "    1: 'Comminuted fracture',\n",
        "    2: 'Fracture Dislocation',\n",
        "    3: 'Greenstick fracture',\n",
        "    4: 'Hairline Fracture',\n",
        "    5: 'Impacted fracture',\n",
        "    6: 'Longitudinal fracture',\n",
        "    7: 'No fracture',\n",
        "    8: 'Oblique fracture',\n",
        "    9: 'Pathological fracture',\n",
        "    10: 'Spiral Fracture'\n",
        "}"
      ],
      "metadata": {
        "id": "5npzIDboVLZE"
      },
      "execution_count": null,
      "outputs": []
    },
    {
      "cell_type": "markdown",
      "source": [
        "Comprobación de imagenes"
      ],
      "metadata": {
        "id": "MqCOGiy6tmmT"
      }
    },
    {
      "cell_type": "code",
      "source": [
        "plt.figure(figsize=(10,10))\n",
        "for i in range(25):\n",
        "    plt.subplot(5,5,i+1)\n",
        "    plt.xticks([])\n",
        "    plt.yticks([])\n",
        "    plt.grid(False)\n",
        "    plt.imshow(x_val[i], cmap='gray')\n",
        "\n",
        "    plt.xlabel(class_names[y_val[i]])\n",
        "plt.show()"
      ],
      "metadata": {
        "id": "pHHZ3Wp7pmVe"
      },
      "execution_count": null,
      "outputs": []
    },
    {
      "cell_type": "code",
      "source": [
        "x_train.shape"
      ],
      "metadata": {
        "id": "0Xct_2dITwh_"
      },
      "execution_count": null,
      "outputs": []
    },
    {
      "cell_type": "code",
      "source": [
        "NUM_CLASSES = len(class_names)\n",
        "\n",
        "train_labels = utils.to_categorical(y_train, NUM_CLASSES)\n",
        "test_labels = utils.to_categorical(y_val, NUM_CLASSES)"
      ],
      "metadata": {
        "id": "sIc4_JthT2Tr"
      },
      "execution_count": null,
      "outputs": []
    },
    {
      "cell_type": "markdown",
      "source": [
        "#Construir modelo de la red neuronal"
      ],
      "metadata": {
        "id": "tRlzzZ96QIEe"
      }
    },
    {
      "cell_type": "code",
      "source": [
        "\n",
        "# Construcción del modelo\n",
        "model = models.Sequential([\n",
        "    layers.Conv2D(32, (3, 3), activation='relu', input_shape=(100, 100, 3)),\n",
        "    layers.MaxPooling2D((2, 2)),\n",
        "    layers.BatchNormalization(momentum=0.9),\n",
        "\n",
        "    layers.Conv2D(64, (3, 3), activation='relu'),\n",
        "    layers.MaxPooling2D((2, 2)),\n",
        "    layers.BatchNormalization(momentum=0.9),\n",
        "\n",
        "    layers.Conv2D(128, (3, 3), activation='relu'),\n",
        "    layers.MaxPooling2D((2, 2)),\n",
        "    layers.BatchNormalization(momentum=0.9),\n",
        "\n",
        "    layers.Conv2D(256, (3, 3), activation='relu'),\n",
        "    layers.MaxPooling2D((2, 2)),\n",
        "    layers.Dropout(0.3),\n",
        "    layers.BatchNormalization(momentum=0.9),\n",
        "\n",
        "    layers.Flatten(),\n",
        "    layers.Dense(128, activation='relu'),\n",
        "    layers.BatchNormalization(momentum=0.9),\n",
        "    layers.Dropout(0.5),\n",
        "\n",
        "    layers.Dense(len(class_names), activation='softmax')\n",
        "])\n",
        "\n",
        "# Compilar el modelo\n",
        "opt = Adam(learning_rate=0.0001)\n",
        "model.compile(optimizer=opt,\n",
        "              loss='sparse_categorical_crossentropy',\n",
        "              metrics=['accuracy'])\n",
        "\n",
        "\n",
        "\n",
        "# Callbacks\n",
        "callbacks = [\n",
        "    EarlyStopping(monitor='val_loss', patience=5, restore_best_weights=True),\n",
        "    ModelCheckpoint('best_model.h5', monitor='val_loss', save_best_only=True)\n",
        "]\n",
        "\n"
      ],
      "metadata": {
        "id": "8lxawGhBPC2w"
      },
      "execution_count": null,
      "outputs": []
    },
    {
      "cell_type": "code",
      "source": [
        "model.summary()"
      ],
      "metadata": {
        "id": "d3QgUZEwHQCY"
      },
      "execution_count": null,
      "outputs": []
    },
    {
      "cell_type": "code",
      "source": [
        "# Entrenar el modelo sin aumento de datos\n",
        "history = model.fit( x_train, y_train, epochs=10, batch_size=32, validation_data=(x_val, y_val), callbacks=callbacks)\n",
        "\n",
        "# Evaluar el modelo\n",
        "test_loss, test_acc = model.evaluate(x_val, y_val)\n",
        "print('Test accuracy:', test_acc)"
      ],
      "metadata": {
        "id": "y0HEkO5zWY2p"
      },
      "execution_count": null,
      "outputs": []
    },
    {
      "cell_type": "markdown",
      "source": [
        "# Precisión y Pérdida: Entrenamiento VS Validación"
      ],
      "metadata": {
        "id": "VqOopX6sWpon"
      }
    },
    {
      "cell_type": "code",
      "source": [
        "# Graficar la precisión y la pérdida durante el entrenamiento\n",
        "plt.figure(figsize=(12, 4))\n",
        "plt.subplot(1, 2, 1)\n",
        "plt.plot(history.history['accuracy'], label='Precisión en Entrenamiento')\n",
        "plt.plot(history.history['val_accuracy'], label='Precisión Validada')\n",
        "plt.legend(loc='lower right')\n",
        "plt.title('Precisión de Entrenamiento y Validación')\n",
        "\n",
        "plt.subplot(1, 2, 2)\n",
        "plt.plot(history.history['loss'], label='Pérdida de Entrenamiento')\n",
        "plt.plot(history.history['val_loss'], label='Pérdida en Validación')\n",
        "plt.legend(loc='upper right')\n",
        "plt.title('Pérdida en Entrenamiento y Validación')\n",
        "plt.show()"
      ],
      "metadata": {
        "id": "2aclmJYWW9Mv"
      },
      "execution_count": null,
      "outputs": []
    },
    {
      "cell_type": "markdown",
      "source": [
        "# Predicciones"
      ],
      "metadata": {
        "id": "8sFs9gL_o55N"
      }
    },
    {
      "cell_type": "code",
      "source": [
        "probability_model = tf.keras.Sequential([model, tf.keras.layers.Softmax()])"
      ],
      "metadata": {
        "id": "LrBPk1XXn8nW"
      },
      "execution_count": null,
      "outputs": []
    },
    {
      "cell_type": "code",
      "source": [
        "results = probability_model.predict(x_val)"
      ],
      "metadata": {
        "id": "ITlNGMocn_eF"
      },
      "execution_count": null,
      "outputs": []
    },
    {
      "cell_type": "code",
      "source": [
        "results[3]"
      ],
      "metadata": {
        "id": "wTSMrApaoGNP"
      },
      "execution_count": null,
      "outputs": []
    },
    {
      "cell_type": "markdown",
      "source": [
        "Otra forma"
      ],
      "metadata": {
        "id": "nWTquOHno228"
      }
    },
    {
      "cell_type": "code",
      "source": [
        "predictions = model.predict(x_val)"
      ],
      "metadata": {
        "id": "ah2xhdcpm14f"
      },
      "execution_count": null,
      "outputs": []
    },
    {
      "cell_type": "code",
      "source": [
        "def plot_image(i, predictions_array, true_label, img):\n",
        "  predictions_array, true_label, img = predictions_array, true_label[i], img[i]\n",
        "  plt.grid(False)\n",
        "  plt.xticks([])\n",
        "  plt.yticks([])\n",
        "\n",
        "  plt.imshow(img, cmap=plt.cm.binary)\n",
        "\n",
        "  predicted_label = np.argmax(predictions_array)\n",
        "  if predicted_label == true_label:\n",
        "    color = 'blue'\n",
        "  else:\n",
        "    color = 'red'\n",
        "\n",
        "  plt.xlabel(\"{} {:2.0f}% ({})\".format(class_names[predicted_label],\n",
        "                                100*np.max(predictions_array),\n",
        "                                class_names[true_label]),\n",
        "                                color=color)\n",
        "\n",
        "def plot_value_array(i, predictions_array, true_label):\n",
        "  predictions_array, true_label = predictions_array, true_label[i]\n",
        "  plt.grid(False)\n",
        "  plt.xticks(range(11))\n",
        "  plt.yticks([])\n",
        "  thisplot = plt.bar(range(11), predictions_array, color=\"#777777\")\n",
        "  plt.ylim([0, 1])\n",
        "  predicted_label = np.argmax(predictions_array)\n",
        "\n",
        "  thisplot[predicted_label].set_color('red')\n",
        "  thisplot[true_label].set_color('blue')"
      ],
      "metadata": {
        "id": "p6Dhxm0BnYrV"
      },
      "execution_count": null,
      "outputs": []
    },
    {
      "cell_type": "code",
      "source": [
        "i = 2\n",
        "\n",
        "\n",
        "plt.figure(figsize=(6,3))\n",
        "plt.subplot(1,2,1)\n",
        "plot_image(i, predictions[i], y_val, x_val)\n",
        "plt.subplot(1,2,2)\n",
        "plot_value_array(i, predictions[i],  y_val)\n",
        "plt.show()"
      ],
      "metadata": {
        "id": "6AKh0Q3unurv"
      },
      "execution_count": null,
      "outputs": []
    },
    {
      "cell_type": "code",
      "source": [
        "num_rows = 5\n",
        "num_cols = 2\n",
        "num_images = num_rows*num_cols\n",
        "plt.figure(figsize=(2*2*num_cols, 2*num_rows))\n",
        "for i in range(num_images):\n",
        "  plt.subplot(num_rows, 2*num_cols, 2*i+1)\n",
        "  plot_image(i, predictions[i], y_val, x_val)\n",
        "  plt.subplot(num_rows, 2*num_cols, 2*i+2)\n",
        "  plot_value_array(i, predictions[i], y_val)\n",
        "plt.tight_layout()\n",
        "plt.show()"
      ],
      "metadata": {
        "id": "iNe_qB5FnINk"
      },
      "execution_count": null,
      "outputs": []
    }
  ]
}